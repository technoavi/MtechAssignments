{
  "nbformat": 4,
  "nbformat_minor": 0,
  "metadata": {
    "colab": {
      "name": "IDS.ipynb",
      "provenance": []
    },
    "kernelspec": {
      "name": "python3",
      "display_name": "Python 3"
    }
  },
  "cells": [
    {
      "cell_type": "code",
      "metadata": {
        "id": "V4ABu_cqc5No",
        "colab_type": "code",
        "colab": {}
      },
      "source": [
        "import pandas as pd\n",
        "import matplotlib.pyplot as plt\n",
        "import copy\n",
        "import numpy as np\n",
        "import seaborn as sns\n",
        "import pydotplus\n",
        "import warnings\n",
        "import operator"
      ],
      "execution_count": 0,
      "outputs": []
    },
    {
      "cell_type": "code",
      "metadata": {
        "id": "1zxnyiwybuag",
        "colab_type": "code",
        "colab": {}
      },
      "source": [
        "import sys, getopt\n",
        "\n",
        "def arff2csv(arff_path, csv_path=None, _encoding='utf8'):\n",
        "    with open(arff_path, 'r', encoding=_encoding) as fr:\n",
        "        attributes = []\n",
        "        if csv_path is None:\n",
        "            csv_path = arff_path[:-4] + 'csv'  # *.arff -> *.csv\n",
        "        write_sw = False\n",
        "        with open(csv_path, 'w', encoding=_encoding) as fw:\n",
        "            for line in fr.readlines():\n",
        "                if write_sw:\n",
        "                    fw.write(line)\n",
        "                elif '@data' in line:\n",
        "                    fw.write(','.join(attributes) + '\\n')\n",
        "                    write_sw = True\n",
        "                elif '@attribute' in line:\n",
        "                    attributes.append(line.split()[1])"
      ],
      "execution_count": 0,
      "outputs": []
    },
    {
      "cell_type": "code",
      "metadata": {
        "id": "afj8rGHJcRcJ",
        "colab_type": "code",
        "colab": {}
      },
      "source": [
        " arff2csv('data.arff', 'data.csv')"
      ],
      "execution_count": 0,
      "outputs": []
    },
    {
      "cell_type": "code",
      "metadata": {
        "id": "3W_EAPiacdti",
        "colab_type": "code",
        "colab": {}
      },
      "source": [
        "df = pd.read_csv('data.csv')"
      ],
      "execution_count": 0,
      "outputs": []
    },
    {
      "cell_type": "code",
      "metadata": {
        "id": "hEoTODe3dCmD",
        "colab_type": "code",
        "colab": {
          "base_uri": "https://localhost:8080/",
          "height": 224
        },
        "outputId": "f1ada353-f364-4806-a833-7bd33dc2fa7a"
      },
      "source": [
        "df.head()"
      ],
      "execution_count": 11,
      "outputs": [
        {
          "output_type": "execute_result",
          "data": {
            "text/html": [
              "<div>\n",
              "<style scoped>\n",
              "    .dataframe tbody tr th:only-of-type {\n",
              "        vertical-align: middle;\n",
              "    }\n",
              "\n",
              "    .dataframe tbody tr th {\n",
              "        vertical-align: top;\n",
              "    }\n",
              "\n",
              "    .dataframe thead th {\n",
              "        text-align: right;\n",
              "    }\n",
              "</style>\n",
              "<table border=\"1\" class=\"dataframe\">\n",
              "  <thead>\n",
              "    <tr style=\"text-align: right;\">\n",
              "      <th></th>\n",
              "      <th>Hour</th>\n",
              "      <th>Immobilized_bus</th>\n",
              "      <th>Broken_Truck</th>\n",
              "      <th>Vehicle_excess</th>\n",
              "      <th>Accident_victim</th>\n",
              "      <th>Running_over</th>\n",
              "      <th>Fire_vehicles</th>\n",
              "      <th>Occurrence_involving_freight</th>\n",
              "      <th>Incident_involving_dangerous_freight</th>\n",
              "      <th>Lack_of_electricity</th>\n",
              "      <th>Fire</th>\n",
              "      <th>Point_of_flooding</th>\n",
              "      <th>Manifestations</th>\n",
              "      <th>Defect_in_the_network_of_trolleybuses</th>\n",
              "      <th>Tree_on_the_road</th>\n",
              "      <th>Semaphore_off</th>\n",
              "      <th>Intermittent_Semaphore</th>\n",
              "      <th>Slowness_in_traffic_percent</th>\n",
              "    </tr>\n",
              "  </thead>\n",
              "  <tbody>\n",
              "    <tr>\n",
              "      <th>0</th>\n",
              "      <td>7:00</td>\n",
              "      <td>0.0</td>\n",
              "      <td>0.0</td>\n",
              "      <td>T</td>\n",
              "      <td>0.0</td>\n",
              "      <td>0.0</td>\n",
              "      <td>NO</td>\n",
              "      <td>0.0</td>\n",
              "      <td>0.0</td>\n",
              "      <td>0.0</td>\n",
              "      <td>0.0</td>\n",
              "      <td>0.0</td>\n",
              "      <td>0.0</td>\n",
              "      <td>0.0</td>\n",
              "      <td>0.0</td>\n",
              "      <td>0.0</td>\n",
              "      <td>0.0</td>\n",
              "      <td>4.1</td>\n",
              "    </tr>\n",
              "    <tr>\n",
              "      <th>1</th>\n",
              "      <td>7:30</td>\n",
              "      <td>0.0</td>\n",
              "      <td>0.0</td>\n",
              "      <td>F</td>\n",
              "      <td>0.0</td>\n",
              "      <td>0.0</td>\n",
              "      <td>NO</td>\n",
              "      <td>0.0</td>\n",
              "      <td>0.0</td>\n",
              "      <td>0.0</td>\n",
              "      <td>0.0</td>\n",
              "      <td>0.0</td>\n",
              "      <td>0.0</td>\n",
              "      <td>0.0</td>\n",
              "      <td>0.0</td>\n",
              "      <td>0.0</td>\n",
              "      <td>0.0</td>\n",
              "      <td>6.6</td>\n",
              "    </tr>\n",
              "    <tr>\n",
              "      <th>2</th>\n",
              "      <td>8:00</td>\n",
              "      <td>0.0</td>\n",
              "      <td>0.0</td>\n",
              "      <td>F</td>\n",
              "      <td>0.0</td>\n",
              "      <td>0.0</td>\n",
              "      <td>NO</td>\n",
              "      <td>0.0</td>\n",
              "      <td>0.0</td>\n",
              "      <td>0.0</td>\n",
              "      <td>0.0</td>\n",
              "      <td>0.0</td>\n",
              "      <td>0.0</td>\n",
              "      <td>0.0</td>\n",
              "      <td>0.0</td>\n",
              "      <td>0.0</td>\n",
              "      <td>0.0</td>\n",
              "      <td>8.7</td>\n",
              "    </tr>\n",
              "    <tr>\n",
              "      <th>3</th>\n",
              "      <td>8:30</td>\n",
              "      <td>0.0</td>\n",
              "      <td>0.0</td>\n",
              "      <td>F</td>\n",
              "      <td>0.0</td>\n",
              "      <td>0.0</td>\n",
              "      <td>NO</td>\n",
              "      <td>0.0</td>\n",
              "      <td>0.0</td>\n",
              "      <td>0.0</td>\n",
              "      <td>0.0</td>\n",
              "      <td>0.0</td>\n",
              "      <td>0.0</td>\n",
              "      <td>0.0</td>\n",
              "      <td>0.0</td>\n",
              "      <td>0.0</td>\n",
              "      <td>0.0</td>\n",
              "      <td>9.2</td>\n",
              "    </tr>\n",
              "    <tr>\n",
              "      <th>4</th>\n",
              "      <td>9:00</td>\n",
              "      <td>0.0</td>\n",
              "      <td>0.0</td>\n",
              "      <td>F</td>\n",
              "      <td>0.0</td>\n",
              "      <td>0.0</td>\n",
              "      <td>NO</td>\n",
              "      <td>0.0</td>\n",
              "      <td>0.0</td>\n",
              "      <td>0.0</td>\n",
              "      <td>0.0</td>\n",
              "      <td>0.0</td>\n",
              "      <td>0.0</td>\n",
              "      <td>0.0</td>\n",
              "      <td>0.0</td>\n",
              "      <td>0.0</td>\n",
              "      <td>0.0</td>\n",
              "      <td>11.1</td>\n",
              "    </tr>\n",
              "  </tbody>\n",
              "</table>\n",
              "</div>"
            ],
            "text/plain": [
              "   Hour  Immobilized_bus  ...  Intermittent_Semaphore Slowness_in_traffic_percent\n",
              "0  7:00              0.0  ...                     0.0                         4.1\n",
              "1  7:30              0.0  ...                     0.0                         6.6\n",
              "2  8:00              0.0  ...                     0.0                         8.7\n",
              "3  8:30              0.0  ...                     0.0                         9.2\n",
              "4  9:00              0.0  ...                     0.0                        11.1\n",
              "\n",
              "[5 rows x 18 columns]"
            ]
          },
          "metadata": {
            "tags": []
          },
          "execution_count": 11
        }
      ]
    },
    {
      "cell_type": "code",
      "metadata": {
        "id": "rEmQGqrPd2RS",
        "colab_type": "code",
        "colab": {
          "base_uri": "https://localhost:8080/",
          "height": 340
        },
        "outputId": "07334dfd-1c42-49b6-f25d-2627089c79ae"
      },
      "source": [
        "df.dtypes"
      ],
      "execution_count": 12,
      "outputs": [
        {
          "output_type": "execute_result",
          "data": {
            "text/plain": [
              "Hour                                      object\n",
              "Immobilized_bus                          float64\n",
              "Broken_Truck                             float64\n",
              "Vehicle_excess                            object\n",
              "Accident_victim                           object\n",
              "Running_over                              object\n",
              "Fire_vehicles                             object\n",
              "Occurrence_involving_freight             float64\n",
              "Incident_involving_dangerous_freight      object\n",
              "Lack_of_electricity                      float64\n",
              "Fire                                     float64\n",
              "Point_of_flooding                        float64\n",
              "Manifestations                           float64\n",
              "Defect_in_the_network_of_trolleybuses     object\n",
              "Tree_on_the_road                         float64\n",
              "Semaphore_off                             object\n",
              "Intermittent_Semaphore                   float64\n",
              "Slowness_in_traffic_percent              float64\n",
              "dtype: object"
            ]
          },
          "metadata": {
            "tags": []
          },
          "execution_count": 12
        }
      ]
    },
    {
      "cell_type": "code",
      "metadata": {
        "id": "RGaXolYliq9L",
        "colab_type": "code",
        "colab": {
          "base_uri": "https://localhost:8080/",
          "height": 255
        },
        "outputId": "8c983f34-e5b1-411f-de69-3de77da44ca5"
      },
      "source": [
        "df.describe"
      ],
      "execution_count": 13,
      "outputs": [
        {
          "output_type": "execute_result",
          "data": {
            "text/plain": [
              "<bound method NDFrame.describe of       Hour  ...  Slowness_in_traffic_percent\n",
              "0     7:00  ...                          4.1\n",
              "1     7:30  ...                          6.6\n",
              "2     8:00  ...                          8.7\n",
              "3     8:30  ...                          9.2\n",
              "4     9:00  ...                         11.1\n",
              "..     ...  ...                          ...\n",
              "135  18:00  ...                         17.8\n",
              "136  18:30  ...                         18.1\n",
              "137  19:00  ...                         17.7\n",
              "138  19:30  ...                         17.4\n",
              "139  20:00  ...                         12.1\n",
              "\n",
              "[140 rows x 18 columns]>"
            ]
          },
          "metadata": {
            "tags": []
          },
          "execution_count": 13
        }
      ]
    },
    {
      "cell_type": "code",
      "metadata": {
        "id": "4blB6EzAj0lo",
        "colab_type": "code",
        "colab": {
          "base_uri": "https://localhost:8080/",
          "height": 340
        },
        "outputId": "fa9ea842-22b9-4c0f-cbb0-ec64d23b8d65"
      },
      "source": [
        "df.dtypes"
      ],
      "execution_count": 15,
      "outputs": [
        {
          "output_type": "execute_result",
          "data": {
            "text/plain": [
              "Hour                                      object\n",
              "Immobilized_bus                          float64\n",
              "Broken_Truck                             float64\n",
              "Vehicle_excess                            object\n",
              "Accident_victim                           object\n",
              "Running_over                              object\n",
              "Fire_vehicles                             object\n",
              "Occurrence_involving_freight             float64\n",
              "Incident_involving_dangerous_freight      object\n",
              "Lack_of_electricity                      float64\n",
              "Fire                                     float64\n",
              "Point_of_flooding                        float64\n",
              "Manifestations                           float64\n",
              "Defect_in_the_network_of_trolleybuses     object\n",
              "Tree_on_the_road                         float64\n",
              "Semaphore_off                             object\n",
              "Intermittent_Semaphore                   float64\n",
              "Slowness_in_traffic_percent              float64\n",
              "dtype: object"
            ]
          },
          "metadata": {
            "tags": []
          },
          "execution_count": 15
        }
      ]
    },
    {
      "cell_type": "code",
      "metadata": {
        "id": "ISQ-JTNyj5SD",
        "colab_type": "code",
        "colab": {}
      },
      "source": [
        "from sklearn.preprocessing import LabelEncoder\n",
        "labelencoder_Hour = LabelEncoder().fit(df.Hour)\n",
        "labelencoder_Vehicle_excess          = LabelEncoder().fit(df.Vehicle_excess)\n",
        "labelencoder_Accident_victim = LabelEncoder().fit(df.Accident_victim)\n",
        "labelencoder_Running_over = LabelEncoder().fit(df.Running_over)\n",
        "labelencoder_Fire_vehicles       = LabelEncoder().fit(df.Fire_vehicles)\n",
        "labelencoder_Incident_involving_dangerous_freight = LabelEncoder().fit(df.Incident_involving_dangerous_freight)\n",
        "labelencoder_Defect_in_the_network_of_trolleybuses = LabelEncoder().fit(df.Defect_in_the_network_of_trolleybuses)\n",
        "labelencoder_Semaphore_off       = LabelEncoder().fit(df.Semaphore_off)\n"
      ],
      "execution_count": 0,
      "outputs": []
    },
    {
      "cell_type": "code",
      "metadata": {
        "id": "87Z0WvTAowzQ",
        "colab_type": "code",
        "colab": {}
      },
      "source": [
        ""
      ],
      "execution_count": 0,
      "outputs": []
    }
  ]
}