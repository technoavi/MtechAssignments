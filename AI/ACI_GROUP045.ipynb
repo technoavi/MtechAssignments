{
 "cells": [
  {
   "cell_type": "markdown",
   "metadata": {
    "colab_type": "text",
    "id": "I44uJlqseEph"
   },
   "source": [
    "**Artifical and Computational Intelligence Assignment 1**"
   ]
  },
  {
   "cell_type": "markdown",
   "metadata": {
    "colab_type": "text",
    "id": "1oeQ9XLCkOe4"
   },
   "source": [
    "Group ID/Number: **ACI_GROUP045**\n",
    "\n",
    "\n",
    "---\n",
    "\n",
    "Group Members BITS ID:\n",
    "\n",
    "**20180AC4538** \n",
    "\n",
    "**20180AC4537**\n",
    "\n",
    "**20180AC4564**"
   ]
  },
  {
   "cell_type": "markdown",
   "metadata": {
    "colab_type": "text",
    "id": "tFroard4oUh5"
   },
   "source": [
    "Importing the pandas Library and other required Libraries"
   ]
  },
  {
   "cell_type": "code",
   "execution_count": 27,
   "metadata": {
    "colab": {},
    "colab_type": "code",
    "collapsed": true,
    "id": "d1dYHHb0bHcn"
   },
   "outputs": [],
   "source": [
    "import pandas as pd  ######### pandas for data manipulation ,dataframe ,read_csv\n",
    "import numpy as np  ######### Matrix operation\n",
    "from math import sin, cos, sqrt, atan2, radians   ######## Maths operation "
   ]
  },
  {
   "cell_type": "markdown",
   "metadata": {
    "colab_type": "text",
    "id": "yfCRf94oavHB"
   },
   "source": [
    "# 1) Define the environment representation in the following code block"
   ]
  },
  {
   "cell_type": "markdown",
   "metadata": {
    "colab_type": "text",
    "id": "PWdz0sdia1Fp"
   },
   "source": [
    "### Reading the city-data.tsv contains the distances between pairs of cities as per the graph in the documentation"
   ]
  },
  {
   "cell_type": "code",
   "execution_count": 28,
   "metadata": {
    "colab": {
     "base_uri": "https://localhost:8080/",
     "height": 398
    },
    "colab_type": "code",
    "collapsed": false,
    "id": "ROX7FneUbaKo",
    "outputId": "cc44c2df-07db-43f7-c82f-f846abc74653"
   },
   "outputs": [
    {
     "data": {
      "text/html": [
       "<div>\n",
       "<style scoped>\n",
       "    .dataframe tbody tr th:only-of-type {\n",
       "        vertical-align: middle;\n",
       "    }\n",
       "\n",
       "    .dataframe tbody tr th {\n",
       "        vertical-align: top;\n",
       "    }\n",
       "\n",
       "    .dataframe thead th {\n",
       "        text-align: right;\n",
       "    }\n",
       "</style>\n",
       "<table border=\"1\" class=\"dataframe\">\n",
       "  <thead>\n",
       "    <tr style=\"text-align: right;\">\n",
       "      <th></th>\n",
       "      <th>city_1</th>\n",
       "      <th>city_2</th>\n",
       "      <th>distance</th>\n",
       "    </tr>\n",
       "  </thead>\n",
       "  <tbody>\n",
       "    <tr>\n",
       "      <th>0</th>\n",
       "      <td>Raichur</td>\n",
       "      <td>Panji</td>\n",
       "      <td>457</td>\n",
       "    </tr>\n",
       "    <tr>\n",
       "      <th>1</th>\n",
       "      <td>Raichur</td>\n",
       "      <td>Tirupati</td>\n",
       "      <td>453</td>\n",
       "    </tr>\n",
       "    <tr>\n",
       "      <th>2</th>\n",
       "      <td>Raichur</td>\n",
       "      <td>Kurnool</td>\n",
       "      <td>100</td>\n",
       "    </tr>\n",
       "    <tr>\n",
       "      <th>3</th>\n",
       "      <td>Panji</td>\n",
       "      <td>Mangalore</td>\n",
       "      <td>365</td>\n",
       "    </tr>\n",
       "    <tr>\n",
       "      <th>4</th>\n",
       "      <td>Panji</td>\n",
       "      <td>Bellari</td>\n",
       "      <td>409</td>\n",
       "    </tr>\n",
       "  </tbody>\n",
       "</table>\n",
       "</div>"
      ],
      "text/plain": [
       "    city_1     city_2  distance\n",
       "0  Raichur      Panji       457\n",
       "1  Raichur   Tirupati       453\n",
       "2  Raichur    Kurnool       100\n",
       "3    Panji  Mangalore       365\n",
       "4    Panji    Bellari       409"
      ]
     },
     "execution_count": 28,
     "metadata": {},
     "output_type": "execute_result"
    }
   ],
   "source": [
    "#Defining the goal state\n",
    "goal = \"Chennai\"\n",
    "city_data = pd.read_csv(\"city-data.tsv\", sep=\"\\t\") ###### Read City data TSV file to dataframe and print its head\n",
    "city_data.head()"
   ]
  },
  {
   "cell_type": "markdown",
   "metadata": {
    "colab_type": "text",
    "id": "wa68Tj7SbRl2"
   },
   "source": [
    "### Unique cities identified"
   ]
  },
  {
   "cell_type": "code",
   "execution_count": 29,
   "metadata": {
    "colab": {},
    "colab_type": "code",
    "collapsed": false,
    "id": "Y7IQXYqDcEUN"
   },
   "outputs": [
    {
     "name": "stdout",
     "output_type": "stream",
     "text": [
      "['Bangalore' 'Bellari' 'Chennai' 'Kozhikode' 'Kurnool' 'Mangalore'\n",
      " 'Nellore' 'Panji' 'Raichur' 'Tirupati']\n"
     ]
    }
   ],
   "source": [
    "unique_col = np.unique(city_data[['city_1','city_2']])  ##### printing unique cities from city1 and city2\n",
    "print(unique_col)"
   ]
  },
  {
   "cell_type": "markdown",
   "metadata": {
    "colab_type": "text",
    "id": "reEj-jbrbe3D"
   },
   "source": [
    "### Creating a 10x10 (number of unnique cities = 10) data structure usning dataframe for lookup for the city dist ances. If there doesnt exists a path between any city pair the entry in the matrix is -1"
   ]
  },
  {
   "cell_type": "code",
   "execution_count": 30,
   "metadata": {
    "colab": {},
    "colab_type": "code",
    "collapsed": false,
    "id": "cVT8jshycSt7"
   },
   "outputs": [
    {
     "name": "stdout",
     "output_type": "stream",
     "text": [
      "-----***-----\n",
      "           Bangalore  Bellari  Chennai  Kozhikode  Kurnool  Mangalore  \\\n",
      "Bangalore          0      311      346        356       -1        352   \n",
      "Bellari          311        0       -1         -1       -1         -1   \n",
      "Chennai          346       -1        0         -1       -1         -1   \n",
      "Kozhikode        356       -1       -1          0       -1        233   \n",
      "Kurnool           -1       -1       -1         -1        0         -1   \n",
      "Mangalore        352       -1       -1        233       -1          0   \n",
      "Nellore           -1       -1      175         -1      325         -1   \n",
      "Panji             -1      409       -1         -1       -1        365   \n",
      "Raichur           -1       -1       -1         -1      100         -1   \n",
      "Tirupati          -1      379      153         -1      340         -1   \n",
      "\n",
      "           Nellore  Panji  Raichur  Tirupati  \n",
      "Bangalore       -1     -1       -1        -1  \n",
      "Bellari         -1    409       -1       379  \n",
      "Chennai        175     -1       -1       153  \n",
      "Kozhikode       -1     -1       -1        -1  \n",
      "Kurnool        325     -1      100       340  \n",
      "Mangalore       -1    365       -1        -1  \n",
      "Nellore          0     -1       -1       136  \n",
      "Panji           -1      0      457        -1  \n",
      "Raichur         -1    457        0       453  \n",
      "Tirupati       136     -1      453         0  \n"
     ]
    }
   ],
   "source": [
    "df2 = pd.DataFrame(-1, index=unique_col, columns=unique_col)\n",
    "def init_path_cost():      ####### function to calculate initial path cost\n",
    "    for city in unique_col:\n",
    "        df2[city][city] = 0\n",
    "    print(\"-----***-----\")\n",
    "    for index ,row in city_data.iterrows():\n",
    "        #print(row['city_1'])\n",
    "        df2[row[\"city_1\"]][row[\"city_2\"]] = row[\"distance\"]\n",
    "        df2[row[\"city_2\"]][row[\"city_1\"]] = row[\"distance\"]\n",
    "    print(df2)\n",
    "init_path_cost()"
   ]
  },
  {
   "cell_type": "markdown",
   "metadata": {},
   "source": [
    "# 2) Define a function which calculates the heuristic distance from each city to the destination city in the following code block\n",
    "Calculating the haversine distance between each pair of the cities to the destination\n",
    "\n",
    "\"latlong.tsv\" file contains the latitude and longitude of each of the city in the following format: \"city name\":\"lattitude\":\"longitude\""
   ]
  },
  {
   "cell_type": "code",
   "execution_count": 31,
   "metadata": {
    "colab": {},
    "colab_type": "code",
    "collapsed": true,
    "id": "JdlKTrfCcasa"
   },
   "outputs": [],
   "source": [
    "def init_heuristic():   ####### function to calculate heuristic path cost\n",
    "    latlong_df = pd.read_csv(\"latlong.tsv\", sep=\"\\t\",header=None)\n",
    "    latlong = {}\n",
    "    for index, row in latlong_df.iterrows():\n",
    "        latlong[row[0]] = { \"lat\":row[1], \"lon\":row[2]}\n",
    "    #print(latlong)\n",
    "    latlong_df = pd.DataFrame(0, index=unique_col, columns=unique_col)\n",
    "    count = 0;\n",
    "    for i in latlong:\n",
    "        for j in latlong:\n",
    "            if latlong_df[i][j]==0 and i==goal:\n",
    "                latlong_df[i][j] = haversine(latlong[i]['lat'],latlong[i]['lon'],latlong[j]['lat'],latlong[j]['lon'])\n",
    "                latlong_df[j][i] = latlong_df[i][j]\n",
    "                count +=1\n",
    "    print(\"-----***-----\")\n",
    "    print(latlong_df)\n",
    "    print(\"-----***-----\")\n",
    "    print(count)\n",
    "    return latlong_df"
   ]
  },
  {
   "cell_type": "markdown",
   "metadata": {},
   "source": [
    "### Function for calculating distance from each node/city to Destination"
   ]
  },
  {
   "cell_type": "code",
   "execution_count": 32,
   "metadata": {
    "colab": {},
    "colab_type": "code",
    "collapsed": false,
    "id": "jtt_4UgfccBc"
   },
   "outputs": [
    {
     "name": "stdout",
     "output_type": "stream",
     "text": [
      "-----***-----\n",
      "           Bangalore  Bellari  Chennai  Kozhikode  Kurnool  Mangalore  \\\n",
      "Bangalore          0        0      290          0        0          0   \n",
      "Bellari            0        0      427          0        0          0   \n",
      "Chennai          290      427        0        528      388        586   \n",
      "Kozhikode          0        0      528          0        0          0   \n",
      "Kurnool            0        0      388          0        0          0   \n",
      "Mangalore          0        0      586          0        0          0   \n",
      "Nellore            0        0      154          0        0          0   \n",
      "Panji              0        0      744          0        0          0   \n",
      "Raichur            0        0      468          0        0          0   \n",
      "Tirupati           0        0      110          0        0          0   \n",
      "\n",
      "           Nellore  Panji  Raichur  Tirupati  \n",
      "Bangalore        0      0        0         0  \n",
      "Bellari          0      0        0         0  \n",
      "Chennai        154    744      468       110  \n",
      "Kozhikode        0      0        0         0  \n",
      "Kurnool          0      0        0         0  \n",
      "Mangalore        0      0        0         0  \n",
      "Nellore          0      0        0         0  \n",
      "Panji            0      0        0         0  \n",
      "Raichur          0      0        0         0  \n",
      "Tirupati         0      0        0         0  \n",
      "-----***-----\n",
      "10\n"
     ]
    }
   ],
   "source": [
    "####### function to define haversine formula to calculate the great-circle distance between two points \n",
    "def haversine(lat1, lon1, lat2, lon2):   \n",
    "    # approximate radius of earth in km\n",
    "    R = 6371.0\n",
    "    lat1 = radians(lat1)\n",
    "    lon1 = radians(lon1)\n",
    "    lat2 = radians(lat2)\n",
    "    lon2 = radians(lon2)\n",
    "\n",
    "    dlon = lon2 - lon1\n",
    "    dlat = lat2 - lat1\n",
    "\n",
    "    a = sin(dlat / 2)**2 + cos(lat1) * cos(lat2) * sin(dlon / 2)**2\n",
    "    c = 2 * atan2(sqrt(a), sqrt(1 - a))\n",
    "\n",
    "    distance = R * c\n",
    "\n",
    "   # print(\"Result:\", distance)\n",
    "    return distance\n",
    "latlong_df = init_heuristic()"
   ]
  },
  {
   "cell_type": "markdown",
   "metadata": {
    "colab_type": "text",
    "id": "JDzyQLI0Ygt4"
   },
   "source": [
    "# 3) Implementation of A* Algorithm"
   ]
  },
  {
   "cell_type": "code",
   "execution_count": 33,
   "metadata": {
    "colab": {},
    "colab_type": "code",
    "collapsed": true,
    "id": "d1HaMUACc9r5"
   },
   "outputs": [],
   "source": [
    "def check(node_list, city_node):   \n",
    "    for node in node_list:\n",
    "        if node.name == city_node.name:\n",
    "            return True\n",
    "    return False"
   ]
  },
  {
   "cell_type": "markdown",
   "metadata": {
    "colab_type": "text",
    "id": "hilv6HagZAxT"
   },
   "source": [
    "replace function replaces the first node with the second node in the list, this is done for the updation of the optimal path cost"
   ]
  },
  {
   "cell_type": "code",
   "execution_count": 34,
   "metadata": {
    "colab": {},
    "colab_type": "code",
    "collapsed": true,
    "id": "04rv7CmgdHq-"
   },
   "outputs": [],
   "source": [
    "def replace(node_list, city_node1, city_node2): \n",
    "    node_list[node_list.index(city_node1)] = city_node2"
   ]
  },
  {
   "cell_type": "markdown",
   "metadata": {
    "colab_type": "text",
    "id": "8jP4kvXoZM5k"
   },
   "source": [
    "indexOf function returns the index of the list of node cities for any given city node"
   ]
  },
  {
   "cell_type": "code",
   "execution_count": 35,
   "metadata": {
    "colab": {},
    "colab_type": "code",
    "collapsed": true,
    "id": "IipcblmWdMZF"
   },
   "outputs": [],
   "source": [
    "def indexOf(node_list, city_node):     \n",
    "    for node in node_list:\n",
    "        if node.name == city_node.name:\n",
    "            return node_list.index(node)"
   ]
  },
  {
   "cell_type": "markdown",
   "metadata": {
    "colab_type": "text",
    "id": "f3gEDB6_Zqjv"
   },
   "source": [
    "get_children function returns the list of nodes which are adjacent to the given node with the help of df2 dataframe"
   ]
  },
  {
   "cell_type": "code",
   "execution_count": 36,
   "metadata": {
    "colab": {},
    "colab_type": "code",
    "collapsed": false,
    "id": "QHlMBtW0dQEl"
   },
   "outputs": [
    {
     "data": {
      "text/plain": [
       "['Bellari', 'Mangalore', 'Raichur']"
      ]
     },
     "execution_count": 36,
     "metadata": {},
     "output_type": "execute_result"
    }
   ],
   "source": [
    "def get_children(parent):         \n",
    "    children = []\n",
    "    # print(\"Parent:\",parent)\n",
    "    if parent is None:\n",
    "        return children\n",
    "    for i in range(0, len(df2[parent].values.tolist())):\n",
    "        if df2[parent].values.tolist()[i] != -1 and df2.columns[i] != parent:\n",
    "            children.append(df2.columns[i])\n",
    "    return children\n",
    "get_children(\"Panji\")"
   ]
  },
  {
   "cell_type": "markdown",
   "metadata": {
    "colab": {},
    "colab_type": "code",
    "id": "2rf7KNwXdT89"
   },
   "source": [
    "### Class Node defining the node for any given city in the search space"
   ]
  },
  {
   "cell_type": "code",
   "execution_count": 37,
   "metadata": {
    "colab": {},
    "colab_type": "code",
    "collapsed": false,
    "id": "QcPWv0EudXPo"
   },
   "outputs": [],
   "source": [
    "class Node:    ####### creating a class \n",
    "    def __init__(self, parent, name, fn, path_cost,traversed_path):\n",
    "        #print(\"self:\",self)\n",
    "        self.parent = parent\n",
    "        #print(\"self.name:\",name)\n",
    "        self.name = name\n",
    "        self.fn = fn\n",
    "        self.path_cost = path_cost\n",
    "        self.children = []\n",
    "        if traversed_path is None:\n",
    "            self.traversed_path = [name]\n",
    "        elif parent is None:\n",
    "            self.traversed_path = [name]\n",
    "        else:\n",
    "            #print(\"traversed_path::\",traversed_path)\n",
    "            #self.traversed_path = []\n",
    "            self.traversed_path = traversed_path + [name]\n",
    "            #print(\"self.traversed_path::\",self.traversed_path)\n",
    "                \n",
    "\n",
    "    def init_children(self):\n",
    "        #print(\"------\\nParent:\"+self.name)\n",
    "        if self.traversed_path is None:\n",
    "            self.traversed_path = [self]\n",
    "        # print(get_children(self.name))\n",
    "        for child in get_children(self.name):\n",
    "            # print(child+\":\"+str(df2[self.name][child])+\":\"+str(latlong_df[child][goal]))\n",
    "            temp = Node(self.name, child, df2[self.name][child],\n",
    "                        self.path_cost - latlong_df[self.name][goal] + df2[self.name][child] + latlong_df[child][goal],\n",
    "                        self.traversed_path)\n",
    "            self.children.append(temp)\n",
    "            # print(temp)\n",
    "\n",
    "    def __repr__(self):\n",
    "        #temp = [str(elem) for elem in self.traversed_path]\n",
    "        #print(self)\n",
    "        return self.name + \":\" + str(self.fn) + \":\" + str(\n",
    "            self.path_cost) #+ \":\" + ','.join([str(elem) for elem in self.traversed_path])\n"
   ]
  },
  {
   "cell_type": "markdown",
   "metadata": {},
   "source": [
    "### The below funciton runs the A* algorithm"
   ]
  },
  {
   "cell_type": "markdown",
   "metadata": {},
   "source": [
    "### Initialization the search with the start node\n",
    "prints the start node with the node-name:path-cost:total-cost where<br>node-name := city name <br>path-cost := total cost from the starting node to reach till the node city i.e. g(n) <br> total-cost :=  total cost from the starting node added to the heuristic cost i.e f(n) = g(n) + h(n)"
   ]
  },
  {
   "cell_type": "code",
   "execution_count": 38,
   "metadata": {
    "collapsed": false,
    "scrolled": false
   },
   "outputs": [
    {
     "name": "stdout",
     "output_type": "stream",
     "text": [
      "Panji:0:744\n",
      "traversed_path: ['Panji']\n"
     ]
    }
   ],
   "source": [
    "start = Node(None,\"Panji\",0,latlong_df[\"Panji\"][goal],None)\n",
    "print(start)\n",
    "print(\"traversed_path:\",start.traversed_path)\n",
    "start.init_children()"
   ]
  },
  {
   "cell_type": "code",
   "execution_count": 41,
   "metadata": {
    "colab": {},
    "colab_type": "code",
    "collapsed": false,
    "id": "q3g2Y2LYdf0P"
   },
   "outputs": [],
   "source": [
    "def A_STAR():       ####### function to implement A* \n",
    "    frontier = [start]\n",
    "    explored = []\n",
    "    while True:\n",
    "        print(\"-------------------------------------------------------------------------\")\n",
    "        if not frontier:\n",
    "            break\n",
    "        current = frontier.pop(0)\n",
    "        print(\"Current:\",current)\n",
    "        print(\"Explored:\",explored)\n",
    "        print(\"Frontier:\",frontier)\n",
    "        if current.name==goal:\n",
    "            return explored, frontier, current\n",
    "        explored.append(current)\n",
    "        #print(\"Children:\",current.children)\n",
    "        for child in current.children:\n",
    "            child.init_children()\n",
    "            #print(\"child.name:\"+child.name+\"\\tcurrent.name:\"+current.name)\n",
    "            child.fn = child.fn + current.fn\n",
    "            #print(\"child.fn:\"+str(child.fn)+\"\\tcurrent.fn:\"+str(current.fn))\n",
    "            #print(\"child.path_cost:\"+str(child.path_cost)+\"\\tcurrent.path_cost:\"+str(current.path_cost))\n",
    "            if not check(explored,child) and not check(frontier,child):\n",
    "                #print(child)\n",
    "                #print(\"check(frontier,child):\",check(frontier,child))\n",
    "                #print(\"Temp Frontier:\",frontier)\n",
    "                #print(\"check(explored,child):\",check(explored,child))\n",
    "                #print(\"Temp explored:\",explored)\n",
    "                frontier.append(child)\n",
    "                frontier.sort(key=lambda x: x.path_cost)\n",
    "\n",
    "            elif check(frontier,child) and frontier[indexOf(frontier,child)].fn>child.fn:\n",
    "                replace(frontier,frontier[indexOf(frontier,child)],child)\n",
    "                frontier.sort(key=lambda x: x.path_cost)\n"
   ]
  },
  {
   "cell_type": "markdown",
   "metadata": {},
   "source": [
    "### Call your main function/algorithm block in the next code block with appropriate input representation"
   ]
  },
  {
   "cell_type": "code",
   "execution_count": 42,
   "metadata": {
    "colab": {},
    "colab_type": "code",
    "collapsed": false,
    "id": "_GHGEFCidlVd",
    "scrolled": false
   },
   "outputs": [
    {
     "name": "stdout",
     "output_type": "stream",
     "text": [
      "-------------------------------------------------------------------------\n",
      "Current: Panji:0:744\n",
      "Explored: []\n",
      "Frontier: []\n",
      "-------------------------------------------------------------------------\n",
      "Current: Bellari:409:836\n",
      "Explored: [Panji:0:744]\n",
      "Frontier: [Raichur:457:925, Mangalore:365:951]\n",
      "-------------------------------------------------------------------------\n",
      "Current: Tirupati:788:898\n",
      "Explored: [Panji:0:744, Bellari:409:836]\n",
      "Frontier: [Raichur:457:925, Mangalore:365:951, Bangalore:720:1010]\n",
      "-------------------------------------------------------------------------\n",
      "Current: Raichur:457:925\n",
      "Explored: [Panji:0:744, Bellari:409:836, Tirupati:788:898]\n",
      "Frontier: [Chennai:941:941, Mangalore:365:951, Bangalore:720:1010, Nellore:924:1078, Kurnool:1128:1516]\n",
      "-------------------------------------------------------------------------\n",
      "Current: Chennai:941:941\n",
      "Explored: [Panji:0:744, Bellari:409:836, Tirupati:788:898, Raichur:457:925]\n",
      "Frontier: [Kurnool:557:945, Mangalore:365:951, Bangalore:720:1010, Nellore:924:1078]\n"
     ]
    }
   ],
   "source": [
    "explored, frontier, current  = A_STAR()"
   ]
  },
  {
   "cell_type": "code",
   "execution_count": 43,
   "metadata": {
    "collapsed": false
   },
   "outputs": [
    {
     "name": "stdout",
     "output_type": "stream",
     "text": [
      "explored: [Panji:0:744, Bellari:409:836, Tirupati:788:898, Raichur:457:925]\n",
      "frontier: [Kurnool:557:945, Mangalore:365:951, Bangalore:720:1010, Nellore:924:1078]\n",
      "current: Chennai:941:941\n",
      "current: ['Panji', 'Bellari', 'Tirupati', 'Chennai']\n"
     ]
    }
   ],
   "source": [
    "print(\"explored:\",explored)\n",
    "print(\"frontier:\",frontier)\n",
    "print(\"current:\",current)\n",
    "print(\"current:\",current.traversed_path)"
   ]
  },
  {
   "cell_type": "markdown",
   "metadata": {},
   "source": [
    "## (3.1) Path taken to reach destination from Panaji"
   ]
  },
  {
   "cell_type": "code",
   "execution_count": 44,
   "metadata": {
    "collapsed": false
   },
   "outputs": [
    {
     "data": {
      "text/plain": [
       "['Panji', 'Bellari', 'Tirupati', 'Chennai']"
      ]
     },
     "execution_count": 44,
     "metadata": {},
     "output_type": "execute_result"
    }
   ],
   "source": [
    "current.traversed_path"
   ]
  },
  {
   "cell_type": "markdown",
   "metadata": {},
   "source": [
    "## (3.2) Cost of the path"
   ]
  },
  {
   "cell_type": "code",
   "execution_count": 45,
   "metadata": {
    "collapsed": false
   },
   "outputs": [
    {
     "data": {
      "text/plain": [
       "941"
      ]
     },
     "execution_count": 45,
     "metadata": {},
     "output_type": "execute_result"
    }
   ],
   "source": [
    "current.path_cost"
   ]
  },
  {
   "cell_type": "markdown",
   "metadata": {
    "collapsed": true
   },
   "source": [
    "## (3.3) Total Number of nodes vistied to get this state"
   ]
  },
  {
   "cell_type": "code",
   "execution_count": 47,
   "metadata": {
    "collapsed": false
   },
   "outputs": [
    {
     "data": {
      "text/plain": [
       "4"
      ]
     },
     "execution_count": 47,
     "metadata": {},
     "output_type": "execute_result"
    }
   ],
   "source": [
    "len(explored)"
   ]
  },
  {
   "cell_type": "code",
   "execution_count": null,
   "metadata": {
    "collapsed": true
   },
   "outputs": [],
   "source": []
  }
 ],
 "metadata": {
  "anaconda-cloud": {},
  "colab": {
   "collapsed_sections": [],
   "name": "AI Assignmnet.ipynb",
   "provenance": []
  },
  "kernelspec": {
   "display_name": "Python [default]",
   "language": "python",
   "name": "python3"
  },
  "language_info": {
   "codemirror_mode": {
    "name": "ipython",
    "version": 3
   },
   "file_extension": ".py",
   "mimetype": "text/x-python",
   "name": "python",
   "nbconvert_exporter": "python",
   "pygments_lexer": "ipython3",
   "version": "3.5.6"
  }
 },
 "nbformat": 4,
 "nbformat_minor": 0
}
