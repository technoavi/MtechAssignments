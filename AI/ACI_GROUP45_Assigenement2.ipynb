{
 "cells": [
  {
   "cell_type": "markdown",
   "metadata": {},
   "source": [
    "<center><h2>Artificial and Computational Intelligence (Assignment - 2)</h2></center>"
   ]
  },
  {
   "cell_type": "markdown",
   "metadata": {},
   "source": [
    "## Problem Statement\n",
    "\n",
    "As part of the 2nd Assignment, we'll implement Bayesian Networks and also learn to use the pomegranate library.\n",
    "\n",
    "You are required to create a bayesian network model which would help you predict the probability. The detailed problem description is attached as a PDF as a part of this assignment along with the marking scheme.  \n",
    "\n",
    "### What is a Bayesian Network ?\n",
    "\n",
    "A Bayesian network, Bayes network, belief network, decision network, Bayes(ian) model or probabilistic directed acyclic graphical model is a probabilistic graphical model (a type of statistical model) that represents a set of variables and their conditional dependencies via a directed acyclic graph (DAG). \n",
    "\n",
    "Bayesian networks are ideal for taking an event that occurred and predicting the likelihood that any one of several possible known causes was the contributing factor. For example, a Bayesian network could represent the probabilistic relationships between diseases and symptoms. Given symptoms, the network can be used to compute the probabilities of the presence of various diseases. \n",
    "\n",
    "### Dataset\n",
    "\n",
    "The dataset can be downloaded from https://drive.google.com/drive/folders/1oMtKmmvPkN4O8DmrHMJe6M8CbB93Z5kw .You can access it only using your BITS IDs. Also, the same dataset is attached along with the assignment. \n",
    "\n",
    "#### Dataset Description\n",
    "##### Sample Tuple\n",
    "\n",
    "Y\twon\t5wickets\tlost\t2nd\tvWest_Indies\tHome\t6-Nov-11\n",
    "\n",
    "##### Explanation\n",
    "- The first column represents if Ashwin was in the playing 11 or not. \n",
    "- The second column represents the Result of the match . win indicates India won the match.\n",
    "- The third column represents the Margin of victory / losss.\n",
    "- The fourth column represents the results of the toss. won indicates India won the toss. \n",
    "- The fifth column represents the batting order. If India batted 1st or 2nd. \n",
    "- The sixth column represents the opponent.\n",
    "- The seventh column represents the location of the match. If the match was held in Home(India) or away. \n",
    "- The last column represents the start date of the match.\n",
    "\n",
    "\n",
    "### Evaluation\n",
    "We wish to evaluate based on \n",
    "- coding practices being followed\n",
    "- commenting to explain the code and logic behind doing something\n",
    "- your understanding and explanation of data\n",
    "- how good the model would perform"
   ]
  },
  {
   "cell_type": "code",
   "execution_count": null,
   "metadata": {},
   "outputs": [],
   "source": [
    "# BITS RollNumbers , Names. \n",
    "2018AC04537 - Aditya Kashyap Singh\n",
    "2018AC04538 - Amal Srivastava\n",
    "2018AC04564 - Avinash Srivastav"
   ]
  },
  {
   "cell_type": "code",
   "execution_count": 2,
   "metadata": {},
   "outputs": [],
   "source": [
    "#Import libraries\n",
    "import pandas as pd\n",
    "import numpy as np"
   ]
  },
  {
   "cell_type": "code",
   "execution_count": 3,
   "metadata": {},
   "outputs": [],
   "source": [
    "#Read data\n",
    "df = pd.read_excel (r'India_Test_Stats.xlsx')"
   ]
  },
  {
   "cell_type": "code",
   "execution_count": 4,
   "metadata": {},
   "outputs": [
    {
     "data": {
      "text/html": [
       "<div>\n",
       "<style scoped>\n",
       "    .dataframe tbody tr th:only-of-type {\n",
       "        vertical-align: middle;\n",
       "    }\n",
       "\n",
       "    .dataframe tbody tr th {\n",
       "        vertical-align: top;\n",
       "    }\n",
       "\n",
       "    .dataframe thead th {\n",
       "        text-align: right;\n",
       "    }\n",
       "</style>\n",
       "<table border=\"1\" class=\"dataframe\">\n",
       "  <thead>\n",
       "    <tr style=\"text-align: right;\">\n",
       "      <th></th>\n",
       "      <th>Ashwin</th>\n",
       "      <th>Result</th>\n",
       "      <th>Margin</th>\n",
       "      <th>Toss</th>\n",
       "      <th>Bat</th>\n",
       "      <th>Opposition</th>\n",
       "      <th>Location</th>\n",
       "      <th>Start Date</th>\n",
       "    </tr>\n",
       "  </thead>\n",
       "  <tbody>\n",
       "    <tr>\n",
       "      <td>0</td>\n",
       "      <td>Y</td>\n",
       "      <td>won</td>\n",
       "      <td>5 wickets</td>\n",
       "      <td>lost</td>\n",
       "      <td>2nd</td>\n",
       "      <td>v West Indies</td>\n",
       "      <td>Home</td>\n",
       "      <td>2011-11-06</td>\n",
       "    </tr>\n",
       "    <tr>\n",
       "      <td>1</td>\n",
       "      <td>Y</td>\n",
       "      <td>won</td>\n",
       "      <td>inns &amp; 15 runs</td>\n",
       "      <td>won</td>\n",
       "      <td>1st</td>\n",
       "      <td>v West Indies</td>\n",
       "      <td>Home</td>\n",
       "      <td>2011-11-14</td>\n",
       "    </tr>\n",
       "    <tr>\n",
       "      <td>2</td>\n",
       "      <td>Y</td>\n",
       "      <td>draw</td>\n",
       "      <td>-</td>\n",
       "      <td>lost</td>\n",
       "      <td>2nd</td>\n",
       "      <td>v West Indies</td>\n",
       "      <td>Home</td>\n",
       "      <td>2011-11-22</td>\n",
       "    </tr>\n",
       "    <tr>\n",
       "      <td>3</td>\n",
       "      <td>Y</td>\n",
       "      <td>lost</td>\n",
       "      <td>122 runs</td>\n",
       "      <td>lost</td>\n",
       "      <td>2nd</td>\n",
       "      <td>v Australia</td>\n",
       "      <td>Away</td>\n",
       "      <td>2011-12-26</td>\n",
       "    </tr>\n",
       "    <tr>\n",
       "      <td>4</td>\n",
       "      <td>Y</td>\n",
       "      <td>lost</td>\n",
       "      <td>inns &amp; 68 runs</td>\n",
       "      <td>won</td>\n",
       "      <td>1st</td>\n",
       "      <td>v Australia</td>\n",
       "      <td>Away</td>\n",
       "      <td>2012-01-03</td>\n",
       "    </tr>\n",
       "  </tbody>\n",
       "</table>\n",
       "</div>"
      ],
      "text/plain": [
       "  Ashwin Result          Margin  Toss  Bat     Opposition Location Start Date\n",
       "0      Y    won       5 wickets  lost  2nd  v West Indies     Home 2011-11-06\n",
       "1      Y    won  inns & 15 runs   won  1st  v West Indies     Home 2011-11-14\n",
       "2      Y   draw               -  lost  2nd  v West Indies     Home 2011-11-22\n",
       "3      Y   lost        122 runs  lost  2nd    v Australia     Away 2011-12-26\n",
       "4      Y   lost  inns & 68 runs   won  1st    v Australia     Away 2012-01-03"
      ]
     },
     "execution_count": 4,
     "metadata": {},
     "output_type": "execute_result"
    }
   ],
   "source": [
    "df.head()"
   ]
  },
  {
   "cell_type": "code",
   "execution_count": 5,
   "metadata": {},
   "outputs": [
    {
     "data": {
      "text/html": [
       "<div>\n",
       "<style scoped>\n",
       "    .dataframe tbody tr th:only-of-type {\n",
       "        vertical-align: middle;\n",
       "    }\n",
       "\n",
       "    .dataframe tbody tr th {\n",
       "        vertical-align: top;\n",
       "    }\n",
       "\n",
       "    .dataframe thead th {\n",
       "        text-align: right;\n",
       "    }\n",
       "</style>\n",
       "<table border=\"1\" class=\"dataframe\">\n",
       "  <thead>\n",
       "    <tr style=\"text-align: right;\">\n",
       "      <th></th>\n",
       "      <th>Ashwin</th>\n",
       "      <th>Result</th>\n",
       "      <th>Margin</th>\n",
       "      <th>Toss</th>\n",
       "      <th>Bat</th>\n",
       "      <th>Opposition</th>\n",
       "      <th>Location</th>\n",
       "      <th>Start Date</th>\n",
       "    </tr>\n",
       "  </thead>\n",
       "  <tbody>\n",
       "    <tr>\n",
       "      <td>count</td>\n",
       "      <td>85</td>\n",
       "      <td>85</td>\n",
       "      <td>85</td>\n",
       "      <td>85</td>\n",
       "      <td>85</td>\n",
       "      <td>85</td>\n",
       "      <td>85</td>\n",
       "      <td>85</td>\n",
       "    </tr>\n",
       "    <tr>\n",
       "      <td>unique</td>\n",
       "      <td>2</td>\n",
       "      <td>3</td>\n",
       "      <td>61</td>\n",
       "      <td>2</td>\n",
       "      <td>2</td>\n",
       "      <td>8</td>\n",
       "      <td>2</td>\n",
       "      <td>85</td>\n",
       "    </tr>\n",
       "    <tr>\n",
       "      <td>top</td>\n",
       "      <td>Y</td>\n",
       "      <td>won</td>\n",
       "      <td>-</td>\n",
       "      <td>lost</td>\n",
       "      <td>1st</td>\n",
       "      <td>v Australia</td>\n",
       "      <td>Home</td>\n",
       "      <td>2019-11-22 00:00:00</td>\n",
       "    </tr>\n",
       "    <tr>\n",
       "      <td>freq</td>\n",
       "      <td>70</td>\n",
       "      <td>47</td>\n",
       "      <td>16</td>\n",
       "      <td>45</td>\n",
       "      <td>46</td>\n",
       "      <td>20</td>\n",
       "      <td>43</td>\n",
       "      <td>1</td>\n",
       "    </tr>\n",
       "    <tr>\n",
       "      <td>first</td>\n",
       "      <td>NaN</td>\n",
       "      <td>NaN</td>\n",
       "      <td>NaN</td>\n",
       "      <td>NaN</td>\n",
       "      <td>NaN</td>\n",
       "      <td>NaN</td>\n",
       "      <td>NaN</td>\n",
       "      <td>2011-11-06 00:00:00</td>\n",
       "    </tr>\n",
       "    <tr>\n",
       "      <td>last</td>\n",
       "      <td>NaN</td>\n",
       "      <td>NaN</td>\n",
       "      <td>NaN</td>\n",
       "      <td>NaN</td>\n",
       "      <td>NaN</td>\n",
       "      <td>NaN</td>\n",
       "      <td>NaN</td>\n",
       "      <td>2019-11-22 00:00:00</td>\n",
       "    </tr>\n",
       "  </tbody>\n",
       "</table>\n",
       "</div>"
      ],
      "text/plain": [
       "       Ashwin Result Margin  Toss  Bat   Opposition Location  \\\n",
       "count      85     85     85    85   85           85       85   \n",
       "unique      2      3     61     2    2            8        2   \n",
       "top         Y    won      -  lost  1st  v Australia     Home   \n",
       "freq       70     47     16    45   46           20       43   \n",
       "first     NaN    NaN    NaN   NaN  NaN          NaN      NaN   \n",
       "last      NaN    NaN    NaN   NaN  NaN          NaN      NaN   \n",
       "\n",
       "                 Start Date  \n",
       "count                    85  \n",
       "unique                   85  \n",
       "top     2019-11-22 00:00:00  \n",
       "freq                      1  \n",
       "first   2011-11-06 00:00:00  \n",
       "last    2019-11-22 00:00:00  "
      ]
     },
     "execution_count": 5,
     "metadata": {},
     "output_type": "execute_result"
    }
   ],
   "source": [
    "df.describe()"
   ]
  },
  {
   "cell_type": "markdown",
   "metadata": {},
   "source": [
    "## Pre-process data (Whatever you feel might be required)"
   ]
  },
  {
   "cell_type": "markdown",
   "metadata": {},
   "source": [
    "### date column can be dropped"
   ]
  },
  {
   "cell_type": "code",
   "execution_count": 6,
   "metadata": {},
   "outputs": [],
   "source": [
    "df.drop('Start Date', axis=1, inplace=True)"
   ]
  },
  {
   "cell_type": "code",
   "execution_count": 7,
   "metadata": {},
   "outputs": [
    {
     "data": {
      "text/html": [
       "<div>\n",
       "<style scoped>\n",
       "    .dataframe tbody tr th:only-of-type {\n",
       "        vertical-align: middle;\n",
       "    }\n",
       "\n",
       "    .dataframe tbody tr th {\n",
       "        vertical-align: top;\n",
       "    }\n",
       "\n",
       "    .dataframe thead th {\n",
       "        text-align: right;\n",
       "    }\n",
       "</style>\n",
       "<table border=\"1\" class=\"dataframe\">\n",
       "  <thead>\n",
       "    <tr style=\"text-align: right;\">\n",
       "      <th></th>\n",
       "      <th>Ashwin</th>\n",
       "      <th>Result</th>\n",
       "      <th>Margin</th>\n",
       "      <th>Toss</th>\n",
       "      <th>Bat</th>\n",
       "      <th>Opposition</th>\n",
       "      <th>Location</th>\n",
       "    </tr>\n",
       "  </thead>\n",
       "  <tbody>\n",
       "    <tr>\n",
       "      <td>0</td>\n",
       "      <td>Y</td>\n",
       "      <td>won</td>\n",
       "      <td>5 wickets</td>\n",
       "      <td>lost</td>\n",
       "      <td>2nd</td>\n",
       "      <td>v West Indies</td>\n",
       "      <td>Home</td>\n",
       "    </tr>\n",
       "    <tr>\n",
       "      <td>1</td>\n",
       "      <td>Y</td>\n",
       "      <td>won</td>\n",
       "      <td>inns &amp; 15 runs</td>\n",
       "      <td>won</td>\n",
       "      <td>1st</td>\n",
       "      <td>v West Indies</td>\n",
       "      <td>Home</td>\n",
       "    </tr>\n",
       "    <tr>\n",
       "      <td>2</td>\n",
       "      <td>Y</td>\n",
       "      <td>draw</td>\n",
       "      <td>-</td>\n",
       "      <td>lost</td>\n",
       "      <td>2nd</td>\n",
       "      <td>v West Indies</td>\n",
       "      <td>Home</td>\n",
       "    </tr>\n",
       "    <tr>\n",
       "      <td>3</td>\n",
       "      <td>Y</td>\n",
       "      <td>lost</td>\n",
       "      <td>122 runs</td>\n",
       "      <td>lost</td>\n",
       "      <td>2nd</td>\n",
       "      <td>v Australia</td>\n",
       "      <td>Away</td>\n",
       "    </tr>\n",
       "    <tr>\n",
       "      <td>4</td>\n",
       "      <td>Y</td>\n",
       "      <td>lost</td>\n",
       "      <td>inns &amp; 68 runs</td>\n",
       "      <td>won</td>\n",
       "      <td>1st</td>\n",
       "      <td>v Australia</td>\n",
       "      <td>Away</td>\n",
       "    </tr>\n",
       "  </tbody>\n",
       "</table>\n",
       "</div>"
      ],
      "text/plain": [
       "  Ashwin Result          Margin  Toss  Bat     Opposition Location\n",
       "0      Y    won       5 wickets  lost  2nd  v West Indies     Home\n",
       "1      Y    won  inns & 15 runs   won  1st  v West Indies     Home\n",
       "2      Y   draw               -  lost  2nd  v West Indies     Home\n",
       "3      Y   lost        122 runs  lost  2nd    v Australia     Away\n",
       "4      Y   lost  inns & 68 runs   won  1st    v Australia     Away"
      ]
     },
     "execution_count": 7,
     "metadata": {},
     "output_type": "execute_result"
    }
   ],
   "source": [
    "df.head()"
   ]
  },
  {
   "cell_type": "markdown",
   "metadata": {},
   "source": [
    "## Data Description"
   ]
  },
  {
   "cell_type": "code",
   "execution_count": 310,
   "metadata": {},
   "outputs": [
    {
     "data": {
      "text/html": [
       "<div>\n",
       "<style scoped>\n",
       "    .dataframe tbody tr th:only-of-type {\n",
       "        vertical-align: middle;\n",
       "    }\n",
       "\n",
       "    .dataframe tbody tr th {\n",
       "        vertical-align: top;\n",
       "    }\n",
       "\n",
       "    .dataframe thead th {\n",
       "        text-align: right;\n",
       "    }\n",
       "</style>\n",
       "<table border=\"1\" class=\"dataframe\">\n",
       "  <thead>\n",
       "    <tr style=\"text-align: right;\">\n",
       "      <th></th>\n",
       "      <th>Ashwin</th>\n",
       "      <th>Result</th>\n",
       "      <th>Margin</th>\n",
       "      <th>Toss</th>\n",
       "      <th>Bat</th>\n",
       "      <th>Opposition</th>\n",
       "      <th>Location</th>\n",
       "    </tr>\n",
       "  </thead>\n",
       "  <tbody>\n",
       "    <tr>\n",
       "      <td>count</td>\n",
       "      <td>85</td>\n",
       "      <td>85</td>\n",
       "      <td>85</td>\n",
       "      <td>85</td>\n",
       "      <td>85</td>\n",
       "      <td>85</td>\n",
       "      <td>85</td>\n",
       "    </tr>\n",
       "    <tr>\n",
       "      <td>unique</td>\n",
       "      <td>2</td>\n",
       "      <td>3</td>\n",
       "      <td>61</td>\n",
       "      <td>2</td>\n",
       "      <td>2</td>\n",
       "      <td>8</td>\n",
       "      <td>2</td>\n",
       "    </tr>\n",
       "    <tr>\n",
       "      <td>top</td>\n",
       "      <td>Y</td>\n",
       "      <td>won</td>\n",
       "      <td>-</td>\n",
       "      <td>lost</td>\n",
       "      <td>1st</td>\n",
       "      <td>v Australia</td>\n",
       "      <td>Home</td>\n",
       "    </tr>\n",
       "    <tr>\n",
       "      <td>freq</td>\n",
       "      <td>70</td>\n",
       "      <td>47</td>\n",
       "      <td>16</td>\n",
       "      <td>45</td>\n",
       "      <td>46</td>\n",
       "      <td>20</td>\n",
       "      <td>43</td>\n",
       "    </tr>\n",
       "  </tbody>\n",
       "</table>\n",
       "</div>"
      ],
      "text/plain": [
       "       Ashwin Result Margin  Toss  Bat   Opposition Location\n",
       "count      85     85     85    85   85           85       85\n",
       "unique      2      3     61     2    2            8        2\n",
       "top         Y    won      -  lost  1st  v Australia     Home\n",
       "freq       70     47     16    45   46           20       43"
      ]
     },
     "execution_count": 310,
     "metadata": {},
     "output_type": "execute_result"
    }
   ],
   "source": [
    "df.describe()"
   ]
  },
  {
   "cell_type": "markdown",
   "metadata": {},
   "source": [
    "# Construction of Bayesian Network goes here "
   ]
  },
  {
   "cell_type": "markdown",
   "metadata": {},
   "source": [
    "## 1. Solution for part 1 "
   ]
  },
  {
   "cell_type": "code",
   "execution_count": 101,
   "metadata": {},
   "outputs": [],
   "source": [
    "def calculate_prior_probability(array):\n",
    "    df_array=pd.DataFrame(array)\n",
    "    column = list(df_array.columns)[0]\n",
    "    df_ash=df_array[column].value_counts()\n",
    "    count = len(array)\n",
    "    dict = {}\n",
    "    val_to_print = \"{\"\n",
    "    for i, v in df_ash.items():\n",
    "        #val_to_print =val_to_print + \"'\" + i + \"': \"+ str(v) + \"/\" + str(count) + \", \"\n",
    "        dict[i] = round(v/count , 2)   \n",
    "    #print(val_to_print[0:len(val_to_print)-2] ,\"}\")\n",
    "    return dict"
   ]
  },
  {
   "cell_type": "code",
   "execution_count": 102,
   "metadata": {},
   "outputs": [
    {
     "name": "stdout",
     "output_type": "stream",
     "text": [
      "{'Y': 0.82, 'N': 0.18}\n"
     ]
    }
   ],
   "source": [
    "prob_dict = calculate_prior_probability(df.Ashwin)\n",
    "print(prob_dict)"
   ]
  },
  {
   "cell_type": "markdown",
   "metadata": {},
   "source": [
    "## 2. Solution for part 2 "
   ]
  },
  {
   "cell_type": "code",
   "execution_count": 156,
   "metadata": {},
   "outputs": [],
   "source": [
    "#list of array is passed. last array will be used to compute the posteriro prob with previous arrays\n",
    "def conditional_probability(list_of_arrys):\n",
    "    length_of_list = len(list_of_arrys)    \n",
    "    #print(\"lenght of list:\",length_of_list)\n",
    "    \n",
    "    # Create the pandas DataFrame \n",
    "    #df = pd.DataFrame(list_of_arrys, columns = [column_name]) \n",
    "    #df = pd.DataFrame({\"col0\":list_of_arrys[0],\"col1\":list_of_arrys[1]})\n",
    "    df = pd.DataFrame()\n",
    "    i=0\n",
    "    while i< length_of_list:\n",
    "        df[\"col_\"+str(i)] = list_of_arrys[i]\n",
    "        i = i + 1\n",
    "    \n",
    "    #list of dataframe with posterior computation\n",
    "    list_df=[]\n",
    "    i=0\n",
    "    last_index = length_of_list-1\n",
    "    #print(\"last index:\",last_index)\n",
    "    \n",
    "    #i_probs = df.groupby('col_2').size().div(len(df))\n",
    "    last_col = \"col_\"+ str(last_index)\n",
    "    #cond1 = pd.DataFrame(df.groupby([last_index, 0]).size().div(len(df)).div(i_probs, axis=0, level=0)).reset_index()\n",
    "    #cond1 = pd.DataFrame(df.groupby(['col_2', 'col_0']).size().div(len(df)).div(i_probs, axis=0, level='col_0')).reset_index()\n",
    "    while i < (length_of_list-1):\n",
    "        col = \"col_\" + str(i)\n",
    "        i_probs = df.groupby(col).size().div(len(df))\n",
    "        cond = pd.DataFrame(df.groupby([last_col, col]).size().div(len(df))\n",
    "                            .div(i_probs, axis=0, level=col)).reset_index()\n",
    "        #print(\"iteration:\", str(i))\n",
    "        #print(cond)\n",
    "        i = i+1\n",
    "        list_df.append(cond)\n",
    "        \n",
    "    return list_df\n",
    "    \n",
    "    "
   ]
  },
  {
   "cell_type": "code",
   "execution_count": 157,
   "metadata": {},
   "outputs": [],
   "source": [
    "def get_probility_combination(mat_1 , mat_2):\n",
    "    prob_combination_list = []\n",
    "    for i in mat_1:\n",
    "        list1 = []\n",
    "        #print(type(list1))\n",
    "        if type(i)==list:\n",
    "            list1 = i\n",
    "        else:\n",
    "            list1.append(i)\n",
    "        for j in mat_2:\n",
    "            list2 = list1.copy()\n",
    "            list2.append(j)\n",
    "            tmp = [i , j]\n",
    "            prob_combination_list.append(list2)\n",
    "            #prob_combination_list.append(list1.append(j))\n",
    "    return prob_combination_list\n",
    "    "
   ]
  },
  {
   "cell_type": "code",
   "execution_count": 158,
   "metadata": {},
   "outputs": [],
   "source": [
    "def get_prob_combination_list(list_arr):\n",
    "    #iterate the list of dataframe to create probbaility combination\n",
    "    last_list_array_index = len(list_arr)-1\n",
    "    prob_combination_list = get_probility_combination(list_arr[last_list_array_index].unique() ,\n",
    "                                                      list_arr[last_list_array_index-1].unique())\n",
    "    i = last_list_array_index-2\n",
    "    #print(i)\n",
    "    #print(prob_combination_list)\n",
    "    while(i>=0):\n",
    "        prob_combination_list = get_probility_combination(prob_combination_list , list_arr[i].unique())\n",
    "        i = i-1\n",
    "    return prob_combination_list\n"
   ]
  },
  {
   "cell_type": "code",
   "execution_count": 159,
   "metadata": {},
   "outputs": [],
   "source": [
    "def get_prob_final_frame(prob_combination_list):\n",
    "    index = 0\n",
    "    df_final = pd.DataFrame()\n",
    "    #sub_list has last array will put last array column \n",
    "    i = len(prob_combination_list[0])-1\n",
    "    #print(i)\n",
    "    for sub_list in prob_combination_list:\n",
    "        j=0\n",
    "        while(j<len(sub_list)):\n",
    "            df_final.at[index,\"col_\"+str(i-j)] = sub_list[j]\n",
    "            j = j+1   \n",
    "        df_final.at[index,\"prob\"] = 0\n",
    "        index +=1\n",
    "    return df_final"
   ]
  },
  {
   "cell_type": "code",
   "execution_count": 160,
   "metadata": {},
   "outputs": [],
   "source": [
    "def get_final_calculation_for_prob(df_retrun , list_arr , df_final):\n",
    "    df_retrun = conditional_probability(list_arr)\n",
    "    #print(df_retrun)\n",
    "    i=0\n",
    "    while(i<len(df_final)):\n",
    "        for cond in df_retrun:\n",
    "            col_names = list(cond.columns)\n",
    "            column_0 = col_names[0]\n",
    "            column_1 = col_names[1]\n",
    "            column_2 = col_names[2]\n",
    "            #print(\"names-\",column_0,column_1,column_2)\n",
    "            for index, row in cond.iterrows():\n",
    "                #print(df_final.loc[i][column_0],row[column_0],df_final.loc[i][column_1],row[column_1])\n",
    "                if df_final.loc[i][column_0]==row[column_0] and df_final.loc[i][column_1]==row[column_1]:\n",
    "                    #df_final.at[i,\"prob\"] = df_final.loc[i][\"prob\"] * row[column_2]\n",
    "                    #print(row[column_0] , row[column_1])\n",
    "                    if df_final.loc[i][\"prob\"]==0:\n",
    "                        df_final.at[i,\"prob\"] = row[column_2] #* prob_dict.get(row[column_0])\n",
    "                        #print(df_final.loc[i][\"prob\"] , row[column_2] , prob_dict.get(row[column_0]))\n",
    "                    else:\n",
    "                        df_final.at[i,\"prob\"] = df_final.loc[i][\"prob\"] * row[column_2]#* prob_dict.get(row[column_0])\n",
    "                        #print(\"else-\",df_final.loc[i][\"prob\"] , df_final.loc[i][\"prob\"] , prob_dict.get(row[column_0]))\n",
    "                    #df_final.at[i,\"prob\"] = df_final.loc[i][\"prob\"] * row[column_2]\n",
    "                    #print(df_final.at[i,\"prob\"])\n",
    "                    break\n",
    "\n",
    "        i +=1\n",
    "    #print(df_final)\n",
    "    i=0\n",
    "    col_names = list(df_final.columns)\n",
    "    #print(col_names)\n",
    "    col_for_prob = col_names[0]\n",
    "    while i<len(df_final):\n",
    "        df_final.at[i,\"prob\"] = df_final.loc[i][\"prob\"] * prob_dict.get(df_final.loc[i][col_for_prob])\n",
    "        i = i+1\n",
    "\n",
    "    #print(df_final)\n",
    "\n",
    "    final_pomo = []\n",
    "    col_names = list(df_final.columns)\n",
    "    col_for_prob = col_names[0]\n",
    "    prob_col = col_names[len(col_names)-1]\n",
    "    col_names.pop(0)\n",
    "    col_names.pop(len(col_names)-1)\n",
    "    i=0\n",
    "    while i<len(df_final):\n",
    "        tmp=[]\n",
    "        for eachCol in col_names:\n",
    "            tmp.append(df_final.loc[i][eachCol])\n",
    "        tmp.append(df_final.loc[i][col_for_prob])\n",
    "        tmp.append(df_final.loc[i][prob_col])\n",
    "        final_pomo.append(tmp)\n",
    "        i = i + 1\n",
    "\n",
    "    #print(final_pomo)\n",
    "    \n",
    "    return final_pomo"
   ]
  },
  {
   "cell_type": "markdown",
   "metadata": {},
   "source": [
    "### list_arr needs to be modified to have more arrays"
   ]
  },
  {
   "cell_type": "code",
   "execution_count": 210,
   "metadata": {},
   "outputs": [
    {
     "name": "stdout",
     "output_type": "stream",
     "text": [
      "won\n",
      "2nd\n"
     ]
    }
   ],
   "source": [
    "#create list of arrays to pass for conditional probability\n",
    "#list_arr can be added wit more arrays to calculate\n",
    "list_arr = []\n",
    "list_arr.append(df.Result)#first array\n",
    "list_arr.append(df.Bat)#secod array\n",
    "#list_arr.append(df.Toss)#second array\n",
    "#list_arr.append(df.Location)#first array\n",
    "list_arr.append(df.Ashwin)#last array\n",
    "#list_arr.append(df.Ashwin)#first array\n",
    "#list_arr.append(df.Toss)#second array\n",
    "#list_arr.append(df.Result)#third array\n",
    "print(list_arr[0][0])\n",
    "print(list_arr[1][0])\n",
    "#print(list_arr[2][0])"
   ]
  },
  {
   "cell_type": "code",
   "execution_count": 211,
   "metadata": {},
   "outputs": [
    {
     "name": "stdout",
     "output_type": "stream",
     "text": [
      "[['Y', '2nd', 'won'], ['Y', '2nd', 'draw'], ['Y', '2nd', 'lost'], ['Y', '1st', 'won'], ['Y', '1st', 'draw'], ['Y', '1st', 'lost'], ['N', '2nd', 'won'], ['N', '2nd', 'draw'], ['N', '2nd', 'lost'], ['N', '1st', 'won'], ['N', '1st', 'draw'], ['N', '1st', 'lost']]\n",
      "   col_2 col_1 col_0      prob\n",
      "0      Y   2nd   won  0.620033\n",
      "1      Y   2nd  draw  0.563750\n",
      "2      Y   2nd  lost  0.473077\n",
      "3      Y   1st   won  0.589399\n",
      "4      Y   1st  draw  0.535897\n",
      "5      Y   1st  lost  0.449704\n",
      "6      N   2nd   won  0.002946\n",
      "7      N   2nd  draw  0.005192\n",
      "8      N   2nd  lost  0.008811\n",
      "9      N   1st   won  0.003747\n",
      "10     N   1st  draw  0.006603\n",
      "11     N   1st  lost  0.011206\n",
      "[['2nd', 'won', 'Y', 0.6200327332242226], ['2nd', 'draw', 'Y', 0.5637500000000002], ['2nd', 'lost', 'Y', 0.4730769230769231], ['1st', 'won', 'Y', 0.5893987049028676], ['1st', 'draw', 'Y', 0.5358967391304349], ['1st', 'lost', 'Y', 0.44970355731225287], ['2nd', 'won', 'N', 0.0029459901800327325], ['2nd', 'draw', 'N', 0.005192307692307692], ['2nd', 'lost', 'N', 0.00881118881118881], ['1st', 'won', 'N', 0.0037465309898242365], ['1st', 'draw', 'N', 0.006603260869565218], ['1st', 'lost', 'N', 0.011205533596837942]]\n"
     ]
    }
   ],
   "source": [
    "prob_combination_list = get_prob_combination_list(list_arr)\n",
    "df_final = get_prob_final_frame(prob_combination_list)\n",
    "df_retrun = conditional_probability(list_arr)\n",
    "final_map = get_final_calculation_for_prob(df_retrun , list_arr , df_final)\n",
    "\n",
    "print(prob_combination_list)\n",
    "print(df_final)\n",
    "print(final_map)\n"
   ]
  },
  {
   "cell_type": "markdown",
   "metadata": {},
   "source": [
    "## Solution 3\n",
    "### Use the functions created above and python’s pomegranate library to define conditionality between variables to create Bayesian Network"
   ]
  },
  {
   "cell_type": "code",
   "execution_count": 212,
   "metadata": {},
   "outputs": [],
   "source": [
    "def calculate_prior_probability_list(array):\n",
    "    df_array=pd.DataFrame(array)\n",
    "    column = list(df_array.columns)[0]\n",
    "    df_ash=df_array[column].value_counts()\n",
    "    count = len(array)\n",
    "    dict = {}\n",
    "    val_to_print = \"{\"\n",
    "    for i, v in df_ash.items():\n",
    "        val_to_print =val_to_print + \"'\" + i + \"': \"+ str(v) + \"./\" + str(count) + \", \"\n",
    "        dict[i] = v/count    \n",
    "    val_to_print = val_to_print[0:len(val_to_print)-2] ,\"}\"\n",
    "    return val_to_print"
   ]
  },
  {
   "cell_type": "code",
   "execution_count": 189,
   "metadata": {},
   "outputs": [
    {
     "name": "stdout",
     "output_type": "stream",
     "text": [
      "The watermark extension is already loaded. To reload it, use:\n",
      "  %reload_ext watermark\n",
      "Sun Mar 15 2020 \n",
      "\n",
      "numpy 1.16.5\n",
      "scipy 1.4.1\n",
      "pomegranate 0.11.1\n",
      "\n",
      "compiler   : MSC v.1915 64 bit (AMD64)\n",
      "system     : Windows\n",
      "release    : 10\n",
      "machine    : AMD64\n",
      "processor  : Intel64 Family 6 Model 142 Stepping 9, GenuineIntel\n",
      "CPU cores  : 4\n",
      "interpreter: 64bit\n"
     ]
    }
   ],
   "source": [
    "import matplotlib.pyplot as plt\n",
    "import seaborn; seaborn.set_style('whitegrid')\n",
    "import numpy\n",
    "\n",
    "from pomegranate import *\n",
    "\n",
    "numpy.random.seed(0)\n",
    "numpy.set_printoptions(suppress=True)\n",
    "\n",
    "%load_ext watermark\n",
    "%watermark -m -n -p numpy,scipy,pomegranate"
   ]
  },
  {
   "cell_type": "code",
   "execution_count": 213,
   "metadata": {},
   "outputs": [],
   "source": [
    "#prob_dict_loc = calculate_prior_probability(df.Location)\n",
    "#prob_dict_ash = calculate_prior_probability(df.Ashwin)\n",
    "#prob_dict_toss = calculate_prior_probability(df.Toss)\n",
    "prob_dict_res = calculate_prior_probability(df.Result)\n",
    "prob_dict_bat = calculate_prior_probability(df.Bat)\n",
    "#print(prob_dict_bat,prob_dict_res)\n",
    "\n",
    "#loc = DiscreteDistribution(prob_dict_loc)\n",
    "#toss = DiscreteDistribution(prob_dict_toss)\n",
    "bat = DiscreteDistribution(prob_dict_bat)\n",
    "res = DiscreteDistribution(prob_dict_res)\n",
    "\n",
    "#['draw', '2nd', 'won', 'Away', 'N'\n",
    "# Ashwin is dependent on locaion , toss , bat ,result. \n",
    "#ashwin_playing = ConditionalProbabilityTable(final_map, [loc , toss , bat, res ])\n",
    "ashwin_playing = ConditionalProbabilityTable(final_map, [ bat, res ])"
   ]
  },
  {
   "cell_type": "code",
   "execution_count": 221,
   "metadata": {},
   "outputs": [],
   "source": [
    "# State objects hold both the distribution, and a high level name.\n",
    "s1 = State(bat, name=\"bat\")\n",
    "s2 = State(res, name=\"res\")\n",
    "#s3 = State(toss, name=\"toss\")\n",
    "#s4 = State(loc, name=\"loc\")\n",
    "s5 = State(ashwin_playing, name=\"ashwin_playing\")"
   ]
  },
  {
   "cell_type": "code",
   "execution_count": 222,
   "metadata": {},
   "outputs": [],
   "source": [
    "# Create the Bayesian network object with a useful name\n",
    "model = BayesianNetwork(\"Ashwin and match\")\n",
    "\n",
    "# Add the three states to the network \n",
    "#model.add_states(s1, s2, s3 , s4 , s5)\n",
    "model.add_states(s1, s2 , s5)"
   ]
  },
  {
   "cell_type": "code",
   "execution_count": 223,
   "metadata": {},
   "outputs": [],
   "source": [
    "# Add edges which represent conditional dependencies, where the second node is \n",
    "# conditionally dependent on the first node (Monty is dependent on both guest and prize)\n",
    "model.add_edge(s1, s5)\n",
    "model.add_edge(s2, s5)\n",
    "#model.add_edge(s3, s5)\n",
    "#model.add_edge(s4, s5)\n",
    "\n",
    "#batting depends on toss\n",
    "#model.add_edge(s2, s3)"
   ]
  },
  {
   "cell_type": "code",
   "execution_count": 224,
   "metadata": {},
   "outputs": [],
   "source": [
    "model.bake()"
   ]
  },
  {
   "cell_type": "markdown",
   "metadata": {},
   "source": [
    "## Solution for part 4"
   ]
  },
  {
   "cell_type": "code",
   "execution_count": 225,
   "metadata": {},
   "outputs": [
    {
     "data": {
      "text/plain": [
       "0.15686828150572832"
      ]
     },
     "execution_count": 225,
     "metadata": {},
     "output_type": "execute_result"
    }
   ],
   "source": [
    "#Predicting Probabilities\n",
    "# a) India winning, batting 2nd, Ashwin playing\n",
    "#model.predict_proba([None ,None , '2nd', 'won' ,'Y'])\n",
    "model.probability(['2nd', 'won' ,'Y'])"
   ]
  },
  {
   "cell_type": "code",
   "execution_count": 226,
   "metadata": {},
   "outputs": [
    {
     "data": {
      "text/plain": [
       "0.0007453355155482819"
      ]
     },
     "execution_count": 226,
     "metadata": {},
     "output_type": "execute_result"
    }
   ],
   "source": [
    "# b) India winning, batting 2nd, Ashwin not playing\n",
    "model.probability(['2nd', 'won' ,'N'])"
   ]
  },
  {
   "cell_type": "code",
   "execution_count": 227,
   "metadata": {},
   "outputs": [
    {
     "data": {
      "text/plain": [
       "0.05658000000000002"
      ]
     },
     "execution_count": 227,
     "metadata": {},
     "output_type": "execute_result"
    }
   ],
   "source": [
    "# c) India losing, batting 2nd, Ashwin playing\n",
    "model.probability(['2nd', 'lost' ,'Y'])"
   ]
  },
  {
   "cell_type": "code",
   "execution_count": 228,
   "metadata": {},
   "outputs": [
    {
     "data": {
      "text/plain": [
       "0.0010538181818181814"
      ]
     },
     "execution_count": 228,
     "metadata": {},
     "output_type": "execute_result"
    }
   ],
   "source": [
    "# d) India losing, batting 2nd, Ashwin not playing\n",
    "model.probability(['2nd', 'lost' ,'N'])"
   ]
  },
  {
   "cell_type": "code",
   "execution_count": null,
   "metadata": {},
   "outputs": [],
   "source": [
    "#Feel free to add cells where necessary. "
   ]
  },
  {
   "cell_type": "markdown",
   "metadata": {},
   "source": [
    "<h3><center> Happy Coding!</center></h3>"
   ]
  }
 ],
 "metadata": {
  "kernelspec": {
   "display_name": "Python 3",
   "language": "python",
   "name": "python3"
  },
  "language_info": {
   "codemirror_mode": {
    "name": "ipython",
    "version": 3
   },
   "file_extension": ".py",
   "mimetype": "text/x-python",
   "name": "python",
   "nbconvert_exporter": "python",
   "pygments_lexer": "ipython3",
   "version": "3.7.4"
  }
 },
 "nbformat": 4,
 "nbformat_minor": 2
}
